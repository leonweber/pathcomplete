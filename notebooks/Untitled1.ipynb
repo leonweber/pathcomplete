{
 "cells": [
  {
   "cell_type": "code",
   "execution_count": 79,
   "metadata": {},
   "outputs": [],
   "source": [
    "%load_ext autoreload\n",
    "%autoreload 2"
   ]
  },
  {
   "cell_type": "code",
   "execution_count": 80,
   "metadata": {},
   "outputs": [],
   "source": [
    "import networkx as nx\n",
    "from visualize import Tabularizer\n",
    "%matplotlib inline"
   ]
  },
  {
   "cell_type": "code",
   "execution_count": 174,
   "metadata": {},
   "outputs": [],
   "source": [
    "g = nx.MultiDiGraph()\n",
    "with open('data/reactome.cif') as f:\n",
    "    for line in f:\n",
    "        e1, e2, r = line.strip().split('\\t')\n",
    "        g.add_edge(e1, e2, label=r)\n",
    "        \n",
    "with open('data/reactome_references.json') as f:\n",
    "    references = json.load(f)"
   ]
  },
  {
   "cell_type": "code",
   "execution_count": 175,
   "metadata": {},
   "outputs": [],
   "source": [
    "tabularizer = Tabularizer(g, references)"
   ]
  },
  {
   "cell_type": "code",
   "execution_count": 176,
   "metadata": {},
   "outputs": [],
   "source": [
    "reactions = tabularizer.get_reactions()"
   ]
  },
  {
   "cell_type": "code",
   "execution_count": 177,
   "metadata": {},
   "outputs": [],
   "source": [
    "reactions_by_participants = defaultdict(list)\n",
    "for r in reactions:\n",
    "    reactions_by_participants[frozenset(r['participants'])].append(r)"
   ]
  },
  {
   "cell_type": "code",
   "execution_count": 178,
   "metadata": {},
   "outputs": [],
   "source": [
    "import pandas as pd\n",
    "query_graph = pd.read_csv('data/nfkappab.tsv', sep='\\t')\n",
    "\n",
    "import itertools\n",
    "proteins = set()\n",
    "for complx in itertools.chain(query_graph['Protein A'], query_graph['Protein B']):\n",
    "    proteins.update(complx.split(':'))\n",
    "\n",
    "\n",
    "interesting_reactions = [r for r in reactions if len(set(r['participants']) & set(proteins)) > 0]"
   ]
  },
  {
   "cell_type": "code",
   "execution_count": 228,
   "metadata": {
    "scrolled": false
   },
   "outputs": [
    {
     "data": {
      "text/plain": [
       "{'lefts': ['CHUK:IKBKG:IKBKB', ''],\n",
       " 'rights': ['IKBKG:IKBKB:CHUK', ''],\n",
       " 'participants': ['O15111',\n",
       "  'Q9Y6K9',\n",
       "  'O14920',\n",
       "  'Q9Y6K9',\n",
       "  'O15111',\n",
       "  'O14920',\n",
       "  'O43318',\n",
       "  'Q15750',\n",
       "  'Q9Y4K3',\n",
       "  'Q04759'],\n",
       " 'id': 'http://identifiers.org/reactome/R-HSA-2730876',\n",
       " 'inhibitors': [],\n",
       " 'regulators': [],\n",
       " 'activators': ['TAB1:http://pathwaycommons.org/pc2/#Protein_a2f1e5ef306b12349b07b7454e64d398:MAP3K7:TRAF6:PRKCQ'],\n",
       " 'references': ['http://identifiers.org/pubmed/17047224',\n",
       "  'http://identifiers.org/pubmed/20300203',\n",
       "  'http://identifiers.org/pubmed/11325957',\n",
       "  'http://identifiers.org/pubmed/14514672',\n",
       "  'http://identifiers.org/pubmed/11460167']}"
      ]
     },
     "execution_count": 228,
     "metadata": {},
     "output_type": "execute_result"
    }
   ],
   "source": [
    "interesting_reactions[11]"
   ]
  },
  {
   "cell_type": "code",
   "execution_count": 229,
   "metadata": {},
   "outputs": [
    {
     "data": {
      "text/plain": [
       "11486"
      ]
     },
     "execution_count": 229,
     "metadata": {},
     "output_type": "execute_result"
    }
   ],
   "source": [
    "len(reactions)"
   ]
  },
  {
   "cell_type": "code",
   "execution_count": null,
   "metadata": {},
   "outputs": [],
   "source": [
    "import json\n",
    "\n",
    "with open('./uniprot_to_hgnc.json') as f:\n",
    "    uniprot_to_hgnc = json.load(f)\n",
    "\n",
    "def get_type(node):\n",
    "    if '#' not in node:\n",
    "        return 'Protein'\n",
    "    else:\n",
    "        return node.split('#')[1].split('_')[0]\n",
    "node_indices = {n: i for i, n in enumerate(toy_g.nodes())}\n",
    "nodes = [{'name': uniprot_to_hgnc.get(n, n), 'type': get_type(n)} for n in toy_g.nodes()]\n",
    "links = [{'source': node_indices[e[0]], 'target': node_indices[e[1]], 'type': e[2]['label']} for e in toy_g.edges(data=True)]\n",
    "\n",
    "with open('graph.json', 'w') as f:\n",
    "    json.dump({'nodes': nodes, 'links': links}, f, indent=4)"
   ]
  },
  {
   "cell_type": "code",
   "execution_count": null,
   "metadata": {},
   "outputs": [],
   "source": []
  }
 ],
 "metadata": {
  "kernelspec": {
   "display_name": "Python 3",
   "language": "python",
   "name": "python3"
  },
  "language_info": {
   "codemirror_mode": {
    "name": "ipython",
    "version": 3
   },
   "file_extension": ".py",
   "mimetype": "text/x-python",
   "name": "python",
   "nbconvert_exporter": "python",
   "pygments_lexer": "ipython3",
   "version": "3.6.7"
  }
 },
 "nbformat": 4,
 "nbformat_minor": 2
}
