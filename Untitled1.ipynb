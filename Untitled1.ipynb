{
 "cells": [
  {
   "cell_type": "code",
   "execution_count": 79,
   "metadata": {},
   "outputs": [],
   "source": [
    "%load_ext autoreload\n",
    "%autoreload 2"
   ]
  },
  {
   "cell_type": "code",
   "execution_count": 80,
   "metadata": {},
   "outputs": [],
   "source": [
    "import networkx as nx\n",
    "from visualize import Tabularizer\n",
    "%matplotlib inline"
   ]
  },
  {
   "cell_type": "code",
   "execution_count": 144,
   "metadata": {},
   "outputs": [],
   "source": [
    "g = nx.MultiDiGraph()\n",
    "with open('data/ncbi.cif') as f:\n",
    "    for line in f:\n",
    "        e1, e2, r = line.strip().split('\\t')\n",
    "        g.add_edge(e1, e2, label=r)\n",
    "        \n",
    "with open('data/ncbi_references.json') as f:\n",
    "    references = json.load(f)"
   ]
  },
  {
   "cell_type": "code",
   "execution_count": 145,
   "metadata": {},
   "outputs": [],
   "source": [
    "tabularizer = Tabularizer(g, references)"
   ]
  },
  {
   "cell_type": "code",
   "execution_count": 146,
   "metadata": {},
   "outputs": [],
   "source": [
    "reactions = tabularizer.get_reactions()"
   ]
  },
  {
   "cell_type": "code",
   "execution_count": 147,
   "metadata": {},
   "outputs": [],
   "source": [
    "reactions_by_participants = defaultdict(list)\n",
    "for r in reactions:\n",
    "    reactions_by_participants[frozenset(r['participants'])].append(r)"
   ]
  },
  {
   "cell_type": "code",
   "execution_count": 148,
   "metadata": {},
   "outputs": [],
   "source": [
    "import pandas as pd\n",
    "query_graph = pd.read_csv('data/nfkappab.tsv', sep='\\t')\n",
    "\n",
    "import itertools\n",
    "proteins = set()\n",
    "for complx in itertools.chain(query_graph['Protein A'], query_graph['Protein B']):\n",
    "    proteins.update(complx.split(':'))\n",
    "\n",
    "\n",
    "interesting_reactions = [r for r in reactions if len(set(r['participants']) & set(proteins)) > 0]"
   ]
  },
  {
   "cell_type": "code",
   "execution_count": 157,
   "metadata": {
    "scrolled": false
   },
   "outputs": [
    {
     "data": {
      "text/plain": [
       "{'lefts': ['MAPK8(residue modification, active)'],\n",
       " 'rights': ['MAPK8(residue modification, inactive)'],\n",
       " 'participants': ['P45983', 'P25942', 'P29965', 'Q13114', 'P45983'],\n",
       " 'id': 'http://pathwaycommons.org/pc2/#BiochemicalReaction_1c9c02270e4cc5e2023771d080ec5433',\n",
       " 'inhibitors': [],\n",
       " 'regulators': [],\n",
       " 'activators': ['CD40:CD40LG:TRAF3'],\n",
       " 'references': ['http://identifiers.org/pubmed/14981114']}"
      ]
     },
     "execution_count": 157,
     "metadata": {},
     "output_type": "execute_result"
    }
   ],
   "source": [
    "interesting_reactions[7]"
   ]
  },
  {
   "cell_type": "code",
   "execution_count": null,
   "metadata": {},
   "outputs": [],
   "source": [
    "import json\n",
    "\n",
    "with open('./uniprot_to_hgnc.json') as f:\n",
    "    uniprot_to_hgnc = json.load(f)\n",
    "\n",
    "def get_type(node):\n",
    "    if '#' not in node:\n",
    "        return 'Protein'\n",
    "    else:\n",
    "        return node.split('#')[1].split('_')[0]\n",
    "node_indices = {n: i for i, n in enumerate(toy_g.nodes())}\n",
    "nodes = [{'name': uniprot_to_hgnc.get(n, n), 'type': get_type(n)} for n in toy_g.nodes()]\n",
    "links = [{'source': node_indices[e[0]], 'target': node_indices[e[1]], 'type': e[2]['label']} for e in toy_g.edges(data=True)]\n",
    "\n",
    "with open('graph.json', 'w') as f:\n",
    "    json.dump({'nodes': nodes, 'links': links}, f, indent=4)"
   ]
  },
  {
   "cell_type": "code",
   "execution_count": null,
   "metadata": {},
   "outputs": [],
   "source": [
    "%%html\n",
    "<div id=\"d3-example\"></div>\n",
    "<style>\n",
    ".node text {\n",
    "  pointer-events: none;\n",
    "  font: 10px sans-serif;\n",
    "}\n",
    "\n",
    ".link {stroke: #999; stroke-opacity: .6;}\n",
    "</style>"
   ]
  },
  {
   "cell_type": "code",
   "execution_count": null,
   "metadata": {},
   "outputs": [],
   "source": [
    "%%javascript\n",
    "// We load the d3.js library from the Web.\n",
    "require.config({paths:\n",
    "    {d3: \"http://d3js.org/d3.v3.min\"}});\n",
    "require([\"d3\"], function(d3) {\n",
    "  // The code in this block is executed when the\n",
    "  // d3.js library has been loaded.\n",
    "\n",
    "  // First, we specify the size of the canvas\n",
    "  // containing the visualization (size of the\n",
    "  // <div> element).\n",
    "  var width = 700, height = 700;\n",
    "\n",
    "  // We create a color scale.\n",
    "  var color = d3.scale.category10();\n",
    "\n",
    "    \n",
    "    var force = d3.layout.force()\n",
    "    .gravity(0.05)\n",
    "    .distance(100)\n",
    "    .charge(-100)\n",
    "    .size([width, height]);\n",
    "\n",
    "  // In the <div> element, we create a <svg> graphic\n",
    "  // that will contain our interactive visualization.\n",
    "  var svg = d3.select(\"#d3-example\").select(\"svg\")\n",
    "  if (svg.empty()) {\n",
    "    svg = d3.select(\"#d3-example\").append(\"svg\")\n",
    "          .attr(\"width\", width)\n",
    "          .attr(\"height\", height);\n",
    "  }\n",
    "\n",
    "  // We load the JSON file.\n",
    "  d3.json(\"graph.json\", function(error, graph) {\n",
    "    // In this block, the file has been loaded\n",
    "    // and the 'graph' object contains our graph.\n",
    "\n",
    "    // We load the nodes and links in the\n",
    "    // force-directed graph.\n",
    "    force.nodes(graph.nodes)\n",
    "      .links(graph.links)\n",
    "      .start();\n",
    "\n",
    "    // We create a <line> SVG element for each link\n",
    "    // in the graph.\n",
    "    var link = svg.selectAll(\".link\")\n",
    "      .data(graph.links)\n",
    "      .enter().append(\"line\")\n",
    "      .attr(\"class\", \"link\")\n",
    "      .style(\"stroke\", function (d) {\n",
    "          return color(d.type);\n",
    "      });\n",
    "\n",
    "    // We create a <circle> SVG element for each node\n",
    "    // in the graph, and we specify a few attributes.\n",
    "    var node = svg.selectAll(\".node\")\n",
    "      .data(graph.nodes)\n",
    "      .enter().append(\"g\")\n",
    "      .attr(\"class\", \"node\")\n",
    "      .style(\"fill\", function(d) {\n",
    "         // The node color depends on the club.\n",
    "         return color(d.type);\n",
    "      })\n",
    "      .call(force.drag);\n",
    "      \n",
    "\n",
    "    // The name of each node is the node number.\n",
    "    node.append(\"text\")\n",
    "        .attr(\"x\", 12)\n",
    "        .attr(\"dy\", \".35em\")\n",
    "        .text(function(d) {\n",
    "        if (d.type == 'Protein') {return d.name;}\n",
    "        else {return \"\"}\n",
    "    });\n",
    "      \n",
    "    node.append(\"title\")\n",
    "        .text(function(d) {\n",
    "            return d.name;\n",
    "        });\n",
    "      \n",
    "  node.append(\"circle\")\n",
    "    .attr(\"r\", 4.5);\n",
    "\n",
    "\n",
    "    // We bind the positions of the SVG elements\n",
    "    // to the positions of the dynamic force-directed\n",
    "    // graph, at each time step.\n",
    "    force.on(\"tick\", function() {\n",
    "      link.attr(\"x1\", function(d){return d.source.x})\n",
    "          .attr(\"y1\", function(d){return d.source.y})\n",
    "          .attr(\"x2\", function(d){return d.target.x})\n",
    "          .attr(\"y2\", function(d){return d.target.y});\n",
    "\n",
    "//       node.attr(\"cx\", function(d){return d.x})\n",
    "//           .attr(\"cy\", function(d){return d.y});\n",
    "        node.attr(\"transform\", function(d) { return \"translate(\" + d.x + \",\" + d.y + \")\"; });\n",
    "        \n",
    "    var legend = svg.selectAll(\".legend\")\n",
    "    .data(color.domain())\n",
    "    .enter().append(\"g\")\n",
    "    .attr(\"class\", \"legend\")\n",
    "    .attr(\"transform\", function(d, i) { return \"translate(0,\" + i * 20 + \")\"; });\n",
    "\n",
    "legend.append(\"rect\")\n",
    "    .attr(\"x\", width - 18)\n",
    "    .attr(\"width\", 18)\n",
    "    .attr(\"height\", 18)\n",
    "    .style(\"fill\", color);\n",
    "\n",
    "legend.append(\"text\")\n",
    "    .attr(\"x\", width - 24)\n",
    "    .attr(\"y\", 9)\n",
    "    .attr(\"dy\", \".35em\")\n",
    "    .style(\"text-anchor\", \"end\")\n",
    "    .text(function(d) { return d; });\n",
    "        \n",
    "    });\n",
    "  });\n",
    "    var zoom = d3.zoom();\n",
    "\n",
    "});\n"
   ]
  },
  {
   "cell_type": "code",
   "execution_count": null,
   "metadata": {},
   "outputs": [],
   "source": []
  }
 ],
 "metadata": {
  "kernelspec": {
   "display_name": "Python 3",
   "language": "python",
   "name": "python3"
  },
  "language_info": {
   "codemirror_mode": {
    "name": "ipython",
    "version": 3
   },
   "file_extension": ".py",
   "mimetype": "text/x-python",
   "name": "python",
   "nbconvert_exporter": "python",
   "pygments_lexer": "ipython3",
   "version": "3.6.7"
  }
 },
 "nbformat": 4,
 "nbformat_minor": 2
}
